{
 "cells": [
  {
   "cell_type": "code",
   "execution_count": 14,
   "metadata": {},
   "outputs": [],
   "source": [
    "import discretisedfield as df\n",
    "import micromagneticmodel as mm\n",
    "import matplotlib.pyplot as plt\n",
    "import oommfc as oc\n",
    "import random\n",
    "import numpy as np\n",
    "%matplotlib inline\n",
    "%config InlineBackend.figure_format='svg'\n",
    "thickness = 2e-9\n",
    "cell = (2e-9, 2e-9, 2e-9)\n",
    "p1 = (-500e-9, -60e-9, -thickness/2)\n",
    "p2 = (500e-9, 60e-9, thickness/2)\n",
    "region=df.Region(p1=p1,p2=p2)\n",
    "mesh = df.Mesh(region=region, cell=cell)\n",
    "system = mm.System(name='skyrmionium_dynamics')"
   ]
  },
  {
   "cell_type": "code",
   "execution_count": 35,
   "metadata": {},
   "outputs": [
    {
     "name": "stdout",
     "output_type": "stream",
     "text": [
      "Running OOMMF (ExeOOMMFRunner)[2022/09/21 21:54]... (8.7 s)\n"
     ]
    }
   ],
   "source": [
    "def init_skium(pos):\n",
    "    x, y = pos[0], pos[1]\n",
    "    if (x**2+y**2)**0.5<40e-9 and (x**2+y**2)**0.5>20e-9:\n",
    "        m = (0,0,-1)\n",
    "    elif (x**2+y**2)**0.5<20e-9 :\n",
    "         m = (0,0,1)\n",
    "    else:\n",
    "        m = (0, 0, 1)\n",
    "    \n",
    "    return m\n",
    "system.dynamics = mm.Precession(gamma0=mm.consts.gamma0) + mm.Damping(alpha=0.3)\n",
    "system.energy = mm.Exchange(A=1e-11)+mm.DMI(D=3.5e-3, crystalclass='Cnv_z')+mm.UniaxialAnisotropy(K=0.8e6, u=(0,0,1))+mm.Zeeman(H=(0,0,0.04/mm.consts.mu0))\n",
    "system.m =  df.Field(mesh, dim=3, value=init_skium, norm=5.8e5)\n",
    "ad = oc.MinDriver()\n",
    "ad.drive(system)"
   ]
  },
  {
   "cell_type": "code",
   "execution_count": 36,
   "metadata": {},
   "outputs": [
    {
     "data": {
      "image/svg+xml": "<?xml version=\"1.0\" encoding=\"utf-8\" standalone=\"no\"?>\n<!DOCTYPE svg PUBLIC \"-//W3C//DTD SVG 1.1//EN\"\n  \"http://www.w3.org/Graphics/SVG/1.1/DTD/svg11.dtd\">\n<svg xmlns:xlink=\"http://www.w3.org/1999/xlink\" width=\"421.788719pt\" height=\"231.84pt\" viewBox=\"0 0 421.788719 231.84\" xmlns=\"http://www.w3.org/2000/svg\" version=\"1.1\">\n <metadata>\n  <rdf:RDF xmlns:dc=\"http://purl.org/dc/elements/1.1/\" xmlns:cc=\"http://creativecommons.org/ns#\" xmlns:rdf=\"http://www.w3.org/1999/02/22-rdf-syntax-ns#\">\n   <cc:Work>\n    <dc:type rdf:resource=\"http://purl.org/dc/dcmitype/StillImage\"/>\n    <dc:date>2022-09-21T21:54:28.981804</dc:date>\n    <dc:format>image/svg+xml</dc:format>\n    <dc:creator>\n     <cc:Agent>\n      <dc:title>Matplotlib v3.5.2, https://matplotlib.org/</dc:title>\n     </cc:Agent>\n    </dc:creator>\n   </cc:Work>\n  </rdf:RDF>\n </metadata>\n <defs>\n  <style type=\"text/css\">*{stroke-linejoin: round; stroke-linecap: butt}</style>\n </defs>\n <g id=\"figure_1\">\n  <g id=\"patch_1\">\n   <path d=\"M 0 231.84 \nL 421.788719 231.84 \nL 421.788719 0 \nL 0 0 \nL 0 231.84 \nz\n\" style=\"fill: none\"/>\n  </g>\n  <g id=\"axes_1\">\n   <g id=\"patch_2\">\n    <path d=\"M 63.168594 131.9904 \nL 331.008594 131.9904 \nL 331.008594 99.8496 \nL 63.168594 99.8496 \nz\n\" style=\"fill: #eaeaf2\"/>\n   </g>\n   <g clip-path=\"url(#p7d2745d681)\">\n    <image xlink:href=\"data:image/png;base64,\niVBORw0KGgoAAAANSUhEUgAAAQwAAAAhCAYAAAAsyZXPAAAD+UlEQVR4nO3dzW8bRRjH8e/s7PpdqRvHeXFsGpBa1FQ0CIGUIrUHiOgRbogbJ4TEFUXixL3qkRP8ARy4VJx4u1AOFCqBCrQVrUTTvDsbN6nl2LG9M8PBTQKVEL5tpH0+x/UeHsmr37zszI769WHVlb0IrRTGOYQQ4p8OsiG0Pn7ZixjTWTxU3HUJIY4piwM6+FopPBRaeXHXJIQ4rpxFK4UnwxAhxDCMc0i3QggxNAkMIcTQJDCEEEOTwBBCDM2PuwBxfBhniTCH63G0UvhoeYMmDklgCIyzdFyP0ESsmAJhNAJA2W9S0y3K2ierUhIcQgIj6frOsGP3udkt8fnWPDeWZrBhBgCvvM/8zBLvjN/glXSDk16GQOmYKxZxUqsrk25c56T1SCDjLA3b4VrrNFdvLZC/XqB0Z5/gURuAfilHYzbD3sUWH859x1uF+5S8rDwrCWScZcu0pYeRVMZZWq7LD50prvxymYlrKYo3V7FhA9frAxCkAioPSuxuTXHFvkHp5RYLuTonVDbm6kVcJDASyuJYjxyfrlxi9NsMxR+XMZt1nDEoPxjc027jVrsUjaVXqPHZ5EVmn/uCXGBkaJJQ0rdMqK7r83tvivt/VBm91cSE2zjr8KvTdF+fo/vaefzpCs46zFZI6bcm925XudObpO9M3OWLmEhgJFTfWe52pikse+hwF9froUcK1C/XSC+uk1rcpH75GfRIYfBbfZf8Q83d/QpdF8VdvoiJDEkSyDiLwbET5fD3HK4/mLNQ+Ty7z8MnM19iULx75gMm8nl43MT1+wR7jsdRFoPDOCuTnwkkgZFAWnloFCf9NlFeoYLBnIXb26P4J3z84E0sihP3BtcAVBDQzytO+B20fA4hsSQwEipQHmeza7ROGUy5iAq3Mc0WE18t016ZAmDi9jJRs4VKpTATRfZOGc5m1kkreWySSv75hEqrgBdSG5w+t0bjxRrj22XMxibR2jrpeghAFPVRWqPHy2zNjXDm3DKzqU0ClY65ehEX6VcmlIei4iveq11nZ2Gf3flpdLWCl8sd3ZPLoWvT7F6osrPQ4f3a91R8Ja9UE0x6GAmllUeBNBezGyy+9DVX9QLt8SqlO2MEjTYoRX80S2M2Q/tSi4/Of8OrmToFWbSVaLI0POGe3kvy09IMZnsw5NBjXS48+xdvl3+WvSQJd7A0XAJD/Gu36rrJEZonu1V1k4puy25VIXtJxBGtPAoqQ1ZZKr7BuEdPrit8pDERRyQwxKHB+gwPOaJG/BdpOoQQQ5PAEEIMTQJDCDE0CQwhxNA8rWSGSwjx/7RS+Ma5wcnMzsZdjxDimLI4jHP4ofWBDlop5GBmIcTTDrIhtD5/A+SkixgS7FgCAAAAAElFTkSuQmCC\" id=\"imageb5ef2ff952\" transform=\"scale(1 -1)translate(0 -33)\" x=\"63.168594\" y=\"-98.9904\" width=\"268\" height=\"33\"/>\n   </g>\n   <g id=\"matplotlib.axis_1\">\n    <g id=\"xtick_1\">\n     <g id=\"line2d_1\"/>\n     <g id=\"text_1\">\n      <!-- −0.4 -->\n      <g style=\"fill: #262626\" transform=\"translate(77.121187 146.295556)scale(0.13 -0.13)\">\n       <defs>\n        <path id=\"ArialMT-2212\" d=\"M 3381 1997 \nL 356 1997 \nL 356 2522 \nL 3381 2522 \nL 3381 1997 \nz\n\" transform=\"scale(0.015625)\"/>\n        <path id=\"ArialMT-30\" d=\"M 266 2259 \nQ 266 3072 433 3567 \nQ 600 4063 929 4331 \nQ 1259 4600 1759 4600 \nQ 2128 4600 2406 4451 \nQ 2684 4303 2865 4023 \nQ 3047 3744 3150 3342 \nQ 3253 2941 3253 2259 \nQ 3253 1453 3087 958 \nQ 2922 463 2592 192 \nQ 2263 -78 1759 -78 \nQ 1097 -78 719 397 \nQ 266 969 266 2259 \nz\nM 844 2259 \nQ 844 1131 1108 757 \nQ 1372 384 1759 384 \nQ 2147 384 2411 759 \nQ 2675 1134 2675 2259 \nQ 2675 3391 2411 3762 \nQ 2147 4134 1753 4134 \nQ 1366 4134 1134 3806 \nQ 844 3388 844 2259 \nz\n\" transform=\"scale(0.015625)\"/>\n        <path id=\"ArialMT-2e\" d=\"M 581 0 \nL 581 641 \nL 1222 641 \nL 1222 0 \nL 581 0 \nz\n\" transform=\"scale(0.015625)\"/>\n        <path id=\"ArialMT-34\" d=\"M 2069 0 \nL 2069 1097 \nL 81 1097 \nL 81 1613 \nL 2172 4581 \nL 2631 4581 \nL 2631 1613 \nL 3250 1613 \nL 3250 1097 \nL 2631 1097 \nL 2631 0 \nL 2069 0 \nz\nM 2069 1613 \nL 2069 3678 \nL 634 1613 \nL 2069 1613 \nz\n\" transform=\"scale(0.015625)\"/>\n       </defs>\n       <use xlink:href=\"#ArialMT-2212\"/>\n       <use xlink:href=\"#ArialMT-30\" x=\"58.398438\"/>\n       <use xlink:href=\"#ArialMT-2e\" x=\"114.013672\"/>\n       <use xlink:href=\"#ArialMT-34\" x=\"141.796875\"/>\n      </g>\n     </g>\n    </g>\n    <g id=\"xtick_2\">\n     <g id=\"line2d_2\"/>\n     <g id=\"text_2\">\n      <!-- −0.2 -->\n      <g style=\"fill: #262626\" transform=\"translate(130.689188 146.295556)scale(0.13 -0.13)\">\n       <defs>\n        <path id=\"ArialMT-32\" d=\"M 3222 541 \nL 3222 0 \nL 194 0 \nQ 188 203 259 391 \nQ 375 700 629 1000 \nQ 884 1300 1366 1694 \nQ 2113 2306 2375 2664 \nQ 2638 3022 2638 3341 \nQ 2638 3675 2398 3904 \nQ 2159 4134 1775 4134 \nQ 1369 4134 1125 3890 \nQ 881 3647 878 3216 \nL 300 3275 \nQ 359 3922 746 4261 \nQ 1134 4600 1788 4600 \nQ 2447 4600 2831 4234 \nQ 3216 3869 3216 3328 \nQ 3216 3053 3103 2787 \nQ 2991 2522 2730 2228 \nQ 2469 1934 1863 1422 \nQ 1356 997 1212 845 \nQ 1069 694 975 541 \nL 3222 541 \nz\n\" transform=\"scale(0.015625)\"/>\n       </defs>\n       <use xlink:href=\"#ArialMT-2212\"/>\n       <use xlink:href=\"#ArialMT-30\" x=\"58.398438\"/>\n       <use xlink:href=\"#ArialMT-2e\" x=\"114.013672\"/>\n       <use xlink:href=\"#ArialMT-32\" x=\"141.796875\"/>\n      </g>\n     </g>\n    </g>\n    <g id=\"xtick_3\">\n     <g id=\"line2d_3\"/>\n     <g id=\"text_3\">\n      <!-- 0.0 -->\n      <g style=\"fill: #262626\" transform=\"translate(188.053594 146.295556)scale(0.13 -0.13)\">\n       <use xlink:href=\"#ArialMT-30\"/>\n       <use xlink:href=\"#ArialMT-2e\" x=\"55.615234\"/>\n       <use xlink:href=\"#ArialMT-30\" x=\"83.398438\"/>\n      </g>\n     </g>\n    </g>\n    <g id=\"xtick_4\">\n     <g id=\"line2d_4\"/>\n     <g id=\"text_4\">\n      <!-- 0.2 -->\n      <g style=\"fill: #262626\" transform=\"translate(241.621594 146.295556)scale(0.13 -0.13)\">\n       <use xlink:href=\"#ArialMT-30\"/>\n       <use xlink:href=\"#ArialMT-2e\" x=\"55.615234\"/>\n       <use xlink:href=\"#ArialMT-32\" x=\"83.398438\"/>\n      </g>\n     </g>\n    </g>\n    <g id=\"xtick_5\">\n     <g id=\"line2d_5\"/>\n     <g id=\"text_5\">\n      <!-- 0.4 -->\n      <g style=\"fill: #262626\" transform=\"translate(295.189594 146.295556)scale(0.13 -0.13)\">\n       <use xlink:href=\"#ArialMT-30\"/>\n       <use xlink:href=\"#ArialMT-2e\" x=\"55.615234\"/>\n       <use xlink:href=\"#ArialMT-34\" x=\"83.398438\"/>\n      </g>\n     </g>\n    </g>\n    <g id=\"text_6\">\n     <!-- x (um) -->\n     <g style=\"fill: #262626\" transform=\"translate(175.8425 163.798837)scale(0.15 -0.15)\">\n      <defs>\n       <path id=\"ArialMT-78\" d=\"M 47 0 \nL 1259 1725 \nL 138 3319 \nL 841 3319 \nL 1350 2541 \nQ 1494 2319 1581 2169 \nQ 1719 2375 1834 2534 \nL 2394 3319 \nL 3066 3319 \nL 1919 1756 \nL 3153 0 \nL 2463 0 \nL 1781 1031 \nL 1600 1309 \nL 728 0 \nL 47 0 \nz\n\" transform=\"scale(0.015625)\"/>\n       <path id=\"ArialMT-20\" transform=\"scale(0.015625)\"/>\n       <path id=\"ArialMT-28\" d=\"M 1497 -1347 \nQ 1031 -759 709 28 \nQ 388 816 388 1659 \nQ 388 2403 628 3084 \nQ 909 3875 1497 4659 \nL 1900 4659 \nQ 1522 4009 1400 3731 \nQ 1209 3300 1100 2831 \nQ 966 2247 966 1656 \nQ 966 153 1900 -1347 \nL 1497 -1347 \nz\n\" transform=\"scale(0.015625)\"/>\n       <path id=\"ArialMT-75\" d=\"M 2597 0 \nL 2597 488 \nQ 2209 -75 1544 -75 \nQ 1250 -75 995 37 \nQ 741 150 617 320 \nQ 494 491 444 738 \nQ 409 903 409 1263 \nL 409 3319 \nL 972 3319 \nL 972 1478 \nQ 972 1038 1006 884 \nQ 1059 663 1231 536 \nQ 1403 409 1656 409 \nQ 1909 409 2131 539 \nQ 2353 669 2445 892 \nQ 2538 1116 2538 1541 \nL 2538 3319 \nL 3100 3319 \nL 3100 0 \nL 2597 0 \nz\n\" transform=\"scale(0.015625)\"/>\n       <path id=\"ArialMT-6d\" d=\"M 422 0 \nL 422 3319 \nL 925 3319 \nL 925 2853 \nQ 1081 3097 1340 3245 \nQ 1600 3394 1931 3394 \nQ 2300 3394 2536 3241 \nQ 2772 3088 2869 2813 \nQ 3263 3394 3894 3394 \nQ 4388 3394 4653 3120 \nQ 4919 2847 4919 2278 \nL 4919 0 \nL 4359 0 \nL 4359 2091 \nQ 4359 2428 4304 2576 \nQ 4250 2725 4106 2815 \nQ 3963 2906 3769 2906 \nQ 3419 2906 3187 2673 \nQ 2956 2441 2956 1928 \nL 2956 0 \nL 2394 0 \nL 2394 2156 \nQ 2394 2531 2256 2718 \nQ 2119 2906 1806 2906 \nQ 1569 2906 1367 2781 \nQ 1166 2656 1075 2415 \nQ 984 2175 984 1722 \nL 984 0 \nL 422 0 \nz\n\" transform=\"scale(0.015625)\"/>\n       <path id=\"ArialMT-29\" d=\"M 791 -1347 \nL 388 -1347 \nQ 1322 153 1322 1656 \nQ 1322 2244 1188 2822 \nQ 1081 3291 891 3722 \nQ 769 4003 388 4659 \nL 791 4659 \nQ 1378 3875 1659 3084 \nQ 1900 2403 1900 1659 \nQ 1900 816 1576 28 \nQ 1253 -759 791 -1347 \nz\n\" transform=\"scale(0.015625)\"/>\n      </defs>\n      <use xlink:href=\"#ArialMT-78\"/>\n      <use xlink:href=\"#ArialMT-20\" x=\"50\"/>\n      <use xlink:href=\"#ArialMT-28\" x=\"77.783203\"/>\n      <use xlink:href=\"#ArialMT-75\" x=\"111.083984\"/>\n      <use xlink:href=\"#ArialMT-6d\" x=\"166.699219\"/>\n      <use xlink:href=\"#ArialMT-29\" x=\"250\"/>\n     </g>\n    </g>\n   </g>\n   <g id=\"matplotlib.axis_2\">\n    <g id=\"ytick_1\">\n     <g id=\"line2d_6\"/>\n     <g id=\"text_7\">\n      <!-- −0.05 -->\n      <g style=\"fill: #262626\" transform=\"translate(25.276562 133.964578)scale(0.13 -0.13)\">\n       <defs>\n        <path id=\"ArialMT-35\" d=\"M 266 1200 \nL 856 1250 \nQ 922 819 1161 601 \nQ 1400 384 1738 384 \nQ 2144 384 2425 690 \nQ 2706 997 2706 1503 \nQ 2706 1984 2436 2262 \nQ 2166 2541 1728 2541 \nQ 1456 2541 1237 2417 \nQ 1019 2294 894 2097 \nL 366 2166 \nL 809 4519 \nL 3088 4519 \nL 3088 3981 \nL 1259 3981 \nL 1013 2750 \nQ 1425 3038 1878 3038 \nQ 2478 3038 2890 2622 \nQ 3303 2206 3303 1553 \nQ 3303 931 2941 478 \nQ 2500 -78 1738 -78 \nQ 1113 -78 717 272 \nQ 322 622 266 1200 \nz\n\" transform=\"scale(0.015625)\"/>\n       </defs>\n       <use xlink:href=\"#ArialMT-2212\"/>\n       <use xlink:href=\"#ArialMT-30\" x=\"58.398438\"/>\n       <use xlink:href=\"#ArialMT-2e\" x=\"114.013672\"/>\n       <use xlink:href=\"#ArialMT-30\" x=\"141.796875\"/>\n       <use xlink:href=\"#ArialMT-35\" x=\"197.412109\"/>\n      </g>\n     </g>\n    </g>\n    <g id=\"ytick_2\">\n     <g id=\"line2d_7\"/>\n     <g id=\"text_8\">\n      <!-- 0.00 -->\n      <g style=\"fill: #262626\" transform=\"translate(32.869375 120.572578)scale(0.13 -0.13)\">\n       <use xlink:href=\"#ArialMT-30\"/>\n       <use xlink:href=\"#ArialMT-2e\" x=\"55.615234\"/>\n       <use xlink:href=\"#ArialMT-30\" x=\"83.398438\"/>\n       <use xlink:href=\"#ArialMT-30\" x=\"139.013672\"/>\n      </g>\n     </g>\n    </g>\n    <g id=\"ytick_3\">\n     <g id=\"line2d_8\"/>\n     <g id=\"text_9\">\n      <!-- 0.05 -->\n      <g style=\"fill: #262626\" transform=\"translate(32.869375 107.180578)scale(0.13 -0.13)\">\n       <use xlink:href=\"#ArialMT-30\"/>\n       <use xlink:href=\"#ArialMT-2e\" x=\"55.615234\"/>\n       <use xlink:href=\"#ArialMT-30\" x=\"83.398438\"/>\n       <use xlink:href=\"#ArialMT-35\" x=\"139.013672\"/>\n      </g>\n     </g>\n    </g>\n    <g id=\"text_10\">\n     <!-- y (um) -->\n     <g style=\"fill: #262626\" transform=\"translate(18.119531 137.166094)rotate(-90)scale(0.15 -0.15)\">\n      <defs>\n       <path id=\"ArialMT-79\" d=\"M 397 -1278 \nL 334 -750 \nQ 519 -800 656 -800 \nQ 844 -800 956 -737 \nQ 1069 -675 1141 -563 \nQ 1194 -478 1313 -144 \nQ 1328 -97 1363 -6 \nL 103 3319 \nL 709 3319 \nL 1400 1397 \nQ 1534 1031 1641 628 \nQ 1738 1016 1872 1384 \nL 2581 3319 \nL 3144 3319 \nL 1881 -56 \nQ 1678 -603 1566 -809 \nQ 1416 -1088 1222 -1217 \nQ 1028 -1347 759 -1347 \nQ 597 -1347 397 -1278 \nz\n\" transform=\"scale(0.015625)\"/>\n      </defs>\n      <use xlink:href=\"#ArialMT-79\"/>\n      <use xlink:href=\"#ArialMT-20\" x=\"50\"/>\n      <use xlink:href=\"#ArialMT-28\" x=\"77.783203\"/>\n      <use xlink:href=\"#ArialMT-75\" x=\"111.083984\"/>\n      <use xlink:href=\"#ArialMT-6d\" x=\"166.699219\"/>\n      <use xlink:href=\"#ArialMT-29\" x=\"250\"/>\n     </g>\n    </g>\n   </g>\n   <g id=\"patch_3\">\n    <path d=\"M 63.168594 131.9904 \nL 63.168594 99.8496 \n\" style=\"fill: none\"/>\n   </g>\n   <g id=\"patch_4\">\n    <path d=\"M 331.008594 131.9904 \nL 331.008594 99.8496 \n\" style=\"fill: none\"/>\n   </g>\n   <g id=\"patch_5\">\n    <path d=\"M 63.168594 131.9904 \nL 331.008594 131.9904 \n\" style=\"fill: none\"/>\n   </g>\n   <g id=\"patch_6\">\n    <path d=\"M 63.168594 99.8496 \nL 331.008594 99.8496 \n\" style=\"fill: none\"/>\n   </g>\n  </g>\n  <g id=\"axes_2\">\n   <g id=\"patch_7\">\n    <path d=\"M 347.748594 224.64 \nL 358.620594 224.64 \nL 358.620594 7.2 \nL 347.748594 7.2 \nz\n\" style=\"fill: #eaeaf2\"/>\n   </g>\n   <g id=\"patch_8\">\n    <path clip-path=\"url(#p2a07c6cf68)\" style=\"fill: #eaeaf2; stroke: #eaeaf2; stroke-width: 0.01; stroke-linejoin: miter\"/>\n   </g>\n   <g id=\"matplotlib.axis_3\">\n    <g id=\"ytick_4\">\n     <g id=\"line2d_9\"/>\n     <g id=\"text_11\">\n      <!-- −400000 -->\n      <g style=\"fill: #262626\" transform=\"translate(363.620594 195.563018)scale(0.13 -0.13)\">\n       <use xlink:href=\"#ArialMT-2212\"/>\n       <use xlink:href=\"#ArialMT-34\" x=\"58.398438\"/>\n       <use xlink:href=\"#ArialMT-30\" x=\"114.013672\"/>\n       <use xlink:href=\"#ArialMT-30\" x=\"169.628906\"/>\n       <use xlink:href=\"#ArialMT-30\" x=\"225.244141\"/>\n       <use xlink:href=\"#ArialMT-30\" x=\"280.859375\"/>\n       <use xlink:href=\"#ArialMT-30\" x=\"336.474609\"/>\n      </g>\n     </g>\n    </g>\n    <g id=\"ytick_5\">\n     <g id=\"line2d_10\"/>\n     <g id=\"text_12\">\n      <!-- −200000 -->\n      <g style=\"fill: #262626\" transform=\"translate(363.620594 158.071091)scale(0.13 -0.13)\">\n       <use xlink:href=\"#ArialMT-2212\"/>\n       <use xlink:href=\"#ArialMT-32\" x=\"58.398438\"/>\n       <use xlink:href=\"#ArialMT-30\" x=\"114.013672\"/>\n       <use xlink:href=\"#ArialMT-30\" x=\"169.628906\"/>\n       <use xlink:href=\"#ArialMT-30\" x=\"225.244141\"/>\n       <use xlink:href=\"#ArialMT-30\" x=\"280.859375\"/>\n       <use xlink:href=\"#ArialMT-30\" x=\"336.474609\"/>\n      </g>\n     </g>\n    </g>\n    <g id=\"ytick_6\">\n     <g id=\"line2d_11\"/>\n     <g id=\"text_13\">\n      <!-- 0 -->\n      <g style=\"fill: #262626\" transform=\"translate(363.620594 120.579165)scale(0.13 -0.13)\">\n       <use xlink:href=\"#ArialMT-30\"/>\n      </g>\n     </g>\n    </g>\n    <g id=\"ytick_7\">\n     <g id=\"line2d_12\"/>\n     <g id=\"text_14\">\n      <!-- 200000 -->\n      <g style=\"fill: #262626\" transform=\"translate(363.620594 83.087238)scale(0.13 -0.13)\">\n       <use xlink:href=\"#ArialMT-32\"/>\n       <use xlink:href=\"#ArialMT-30\" x=\"55.615234\"/>\n       <use xlink:href=\"#ArialMT-30\" x=\"111.230469\"/>\n       <use xlink:href=\"#ArialMT-30\" x=\"166.845703\"/>\n       <use xlink:href=\"#ArialMT-30\" x=\"222.460938\"/>\n       <use xlink:href=\"#ArialMT-30\" x=\"278.076172\"/>\n      </g>\n     </g>\n    </g>\n    <g id=\"ytick_8\">\n     <g id=\"line2d_13\"/>\n     <g id=\"text_15\">\n      <!-- 400000 -->\n      <g style=\"fill: #262626\" transform=\"translate(363.620594 45.595312)scale(0.13 -0.13)\">\n       <use xlink:href=\"#ArialMT-34\"/>\n       <use xlink:href=\"#ArialMT-30\" x=\"55.615234\"/>\n       <use xlink:href=\"#ArialMT-30\" x=\"111.230469\"/>\n       <use xlink:href=\"#ArialMT-30\" x=\"166.845703\"/>\n       <use xlink:href=\"#ArialMT-30\" x=\"222.460938\"/>\n       <use xlink:href=\"#ArialMT-30\" x=\"278.076172\"/>\n      </g>\n     </g>\n    </g>\n   </g>\n   <image xlink:href=\"data:image/png;base64,\niVBORw0KGgoAAAANSUhEUgAAAAsAAADaCAYAAABwzrisAAABXElEQVR4nO3a220DMRBDUb3WlbmE9F9JHLkFHQMEZhH7e0Bccij5se7P/rPb4Wu1Pk5n2+qjnw+b8pygbBgw3Acwk3Ij5SnRSc656GyY1p3DCKaRWvcd09jWjRIVNebzBeJVEMTIpXE+29aOrXsLBhYJlCk6TIMwYDiYsxhEZhguksYOHlhShmFkJuUaBmtElzRY45KpkkZMOXdScszns/8gjW/5P1dOrRt0C3WjxrpbPz/fd+zGPdOIMSejk+GRyzmVBnxEUgwqf8sZjCnLunM5k0HCMGVK45yCDabSmOOvAsaIpTHkDE4rv2DkDAbTgG4YRg2Dq4hBYUYMMLhkOIcxg9EBxmVppKLDNMjgC5SNWdKgGym2FEpjxlo3ZYO2lFg3cN2pqwAN/oYw0GCsG1LRB10FQYOp90HsRooZDR7PovJlyvC4QX7dW1MeZAzBIOZL/uwx4Ps/Mqcw3vnrgWxyFhazAAAAAElFTkSuQmCC\" id=\"image3fea0d46c4\" transform=\"scale(1 -1)translate(0 -218)\" x=\"348\" y=\"-6\" width=\"11\" height=\"218\"/>\n   <g id=\"LineCollection_1\"/>\n   <g id=\"patch_9\">\n    <path d=\"M 347.748594 224.64 \nL 353.184594 224.64 \nL 358.620594 224.64 \nL 358.620594 7.2 \nL 353.184594 7.2 \nL 347.748594 7.2 \nL 347.748594 224.64 \nz\n\" style=\"fill: none\"/>\n   </g>\n  </g>\n </g>\n <defs>\n  <clipPath id=\"p7d2745d681\">\n   <rect x=\"63.168594\" y=\"99.8496\" width=\"267.84\" height=\"32.1408\"/>\n  </clipPath>\n  <clipPath id=\"p2a07c6cf68\">\n   <rect x=\"347.748594\" y=\"7.2\" width=\"10.872\" height=\"217.44\"/>\n  </clipPath>\n </defs>\n</svg>\n",
      "text/plain": [
       "<Figure size 432x288 with 2 Axes>"
      ]
     },
     "metadata": {
      "needs_background": "light"
     },
     "output_type": "display_data"
    }
   ],
   "source": [
    "system.m.z.plane('z').mpl.scalar()"
   ]
  },
  {
   "cell_type": "code",
   "execution_count": 37,
   "metadata": {},
   "outputs": [
    {
     "data": {
      "text/html": [
       "<div>\n",
       "<style scoped>\n",
       "    .dataframe tbody tr th:only-of-type {\n",
       "        vertical-align: middle;\n",
       "    }\n",
       "\n",
       "    .dataframe tbody tr th {\n",
       "        vertical-align: top;\n",
       "    }\n",
       "\n",
       "    .dataframe thead th {\n",
       "        text-align: right;\n",
       "    }\n",
       "</style>\n",
       "<table border=\"1\" class=\"dataframe\">\n",
       "  <thead>\n",
       "    <tr style=\"text-align: right;\">\n",
       "      <th></th>\n",
       "      <th>drive_number</th>\n",
       "      <th>date</th>\n",
       "      <th>time</th>\n",
       "      <th>driver</th>\n",
       "    </tr>\n",
       "  </thead>\n",
       "  <tbody>\n",
       "    <tr>\n",
       "      <th>0</th>\n",
       "      <td>0</td>\n",
       "      <td>2022-09-21</td>\n",
       "      <td>21:54:20</td>\n",
       "      <td>MinDriver</td>\n",
       "    </tr>\n",
       "  </tbody>\n",
       "</table>\n",
       "</div>"
      ],
      "text/plain": [
       "   drive_number        date      time     driver\n",
       "0             0  2022-09-21  21:54:20  MinDriver"
      ]
     },
     "execution_count": 37,
     "metadata": {},
     "output_type": "execute_result"
    }
   ],
   "source": [
    "import micromagneticdata as md\n",
    "data=md.Data(system.name)\n",
    "data.info"
   ]
  },
  {
   "cell_type": "markdown",
   "metadata": {},
   "source": [
    "In order to draw the motion track of skyrmionium, we first need to capture the center point of skyrmionium, where the center point ($x_{1}$, $y_{1}$) can be defined by the following formula：\n",
    "\n",
    "\\begin{equation}\n",
    "x_1=\\frac{\\int x\\left(1-m_z\\right) d x d y}{\\int\\left(1-m_z\\right) d x d y}, y_1=\\frac{\\int y\\left(1-m_z\\right) d x d y}{\\int\\left(1-m_z\\right) d x d y}\n",
    "\\end{equation}\n",
    "\n",
    "In ubermag, this method can be implemented with the following codes:"
   ]
  },
  {
   "cell_type": "code",
   "execution_count": 43,
   "metadata": {},
   "outputs": [],
   "source": [
    "def skium_location(l,n):\n",
    "    X = []\n",
    "    Y = []\n",
    "    for i in range(n):\n",
    "        m = data[l][i].orientation\n",
    "        x = df.Field(data[l][i].mesh, dim =1, value = lambda pos:pos[0])\n",
    "        y = df.Field(data[l][i].mesh, dim =1, value = lambda pos:pos[1])\n",
    "        Rx = df.integral(x * (1-m.z) * df.dx * df.dy) / df.integral((1-m.z) * df.dx * df.dy)\n",
    "        Ry = df.integral(y * (1-m.z) * df.dx * df.dy) / df.integral((1-m.z) * df.dx * df.dy)\n",
    "        X.append(Rx)\n",
    "        Y.append(Ry)\n",
    "    return X,Y"
   ]
  },
  {
   "cell_type": "code",
   "execution_count": 50,
   "metadata": {},
   "outputs": [
    {
     "name": "stdout",
     "output_type": "stream",
     "text": [
      "([1.9187221547775284e-20], [4.815144731685832e-20])\n"
     ]
    }
   ],
   "source": [
    "center_point=(skium_location(0,1)[0],skium_location(0,1)[1])\n",
    "print(center_point)"
   ]
  },
  {
   "cell_type": "code",
   "execution_count": null,
   "metadata": {},
   "outputs": [],
   "source": []
  }
 ],
 "metadata": {
  "kernelspec": {
   "display_name": "Python 3.9.13 ('ubermag_new')",
   "language": "python",
   "name": "python3"
  },
  "language_info": {
   "codemirror_mode": {
    "name": "ipython",
    "version": 3
   },
   "file_extension": ".py",
   "mimetype": "text/x-python",
   "name": "python",
   "nbconvert_exporter": "python",
   "pygments_lexer": "ipython3",
   "version": "3.9.13"
  },
  "orig_nbformat": 4,
  "vscode": {
   "interpreter": {
    "hash": "789827c988ed6a2ff30929c47767c4bfaddc74f2b0eb3bace0d8b14934c6102b"
   }
  }
 },
 "nbformat": 4,
 "nbformat_minor": 2
}
