{
 "cells": [
  {
   "cell_type": "markdown",
   "metadata": {},
   "source": [
    "## ！Prerequisites: [celluloid](https://pypi.org/project/celluloid/) python package required"
   ]
  },
  {
   "cell_type": "code",
   "execution_count": 1,
   "metadata": {},
   "outputs": [],
   "source": [
    "import discretisedfield as df\n",
    "import micromagneticmodel as mm\n",
    "import matplotlib.pyplot as plt\n",
    "import oommfc as oc\n",
    "import random\n",
    "import numpy as np\n",
    "%matplotlib inline\n",
    "%config InlineBackend.figure_format='svg'\n",
    "thickness = 2e-9\n",
    "cell = (2e-9, 2e-9, 2e-9)\n",
    "p1 = (-400e-9, -50e-9, -thickness/2)\n",
    "p2 = (400e-9, 50e-9, thickness/2)\n",
    "region=df.Region(p1=p1,p2=p2)\n",
    "mesh = df.Mesh(region=region, cell=cell)\n",
    "system = mm.System(name='dynamic_plot')"
   ]
  },
  {
   "cell_type": "code",
   "execution_count": 2,
   "metadata": {},
   "outputs": [
    {
     "name": "stdout",
     "output_type": "stream",
     "text": [
      "Running OOMMF (ExeOOMMFRunner)[2022/09/26 13:11]... (12.2 s)\n"
     ]
    }
   ],
   "source": [
    "def initial_state(pos):\n",
    "    x, y = pos[0], pos[1]\n",
    "    if ((x+300e-9)**2+y**2)**0.5<20e-9:\n",
    "        m = (0,0,-1)\n",
    "    else:\n",
    "        m = (0, 0, 1)\n",
    "    return m\n",
    "system.dynamics = mm.Precession(gamma0=mm.consts.gamma0) + mm.Damping(alpha=0.3)\n",
    "system.energy = mm.Exchange(A=1e-11)+mm.DMI(D=3.2e-3, crystalclass='Cnv_z')+mm.UniaxialAnisotropy(K=0.8e6, u=(0,0,1))\n",
    "system.m =  df.Field(mesh, dim=3, value=initial_state, norm=5.8e5)\n",
    "ad = oc.MinDriver()\n",
    "ad.drive(system)"
   ]
  },
  {
   "cell_type": "code",
   "execution_count": 3,
   "metadata": {},
   "outputs": [
    {
     "data": {
      "text/html": [
       "<div>\n",
       "<style scoped>\n",
       "    .dataframe tbody tr th:only-of-type {\n",
       "        vertical-align: middle;\n",
       "    }\n",
       "\n",
       "    .dataframe tbody tr th {\n",
       "        vertical-align: top;\n",
       "    }\n",
       "\n",
       "    .dataframe thead th {\n",
       "        text-align: right;\n",
       "    }\n",
       "</style>\n",
       "<table border=\"1\" class=\"dataframe\">\n",
       "  <thead>\n",
       "    <tr style=\"text-align: right;\">\n",
       "      <th></th>\n",
       "      <th>drive_number</th>\n",
       "      <th>date</th>\n",
       "      <th>time</th>\n",
       "      <th>driver</th>\n",
       "    </tr>\n",
       "  </thead>\n",
       "  <tbody>\n",
       "    <tr>\n",
       "      <th>0</th>\n",
       "      <td>0</td>\n",
       "      <td>2022-09-26</td>\n",
       "      <td>13:11:44</td>\n",
       "      <td>MinDriver</td>\n",
       "    </tr>\n",
       "  </tbody>\n",
       "</table>\n",
       "</div>"
      ],
      "text/plain": [
       "   drive_number        date      time     driver\n",
       "0             0  2022-09-26  13:11:44  MinDriver"
      ]
     },
     "execution_count": 3,
     "metadata": {},
     "output_type": "execute_result"
    }
   ],
   "source": [
    "import micromagneticdata as md\n",
    "data=md.Data(system.name)\n",
    "data.info"
   ]
  },
  {
   "cell_type": "code",
   "execution_count": 4,
   "metadata": {},
   "outputs": [
    {
     "data": {
      "application/vnd.jupyter.widget-view+json": {
       "model_id": "dd9e265db2a44f958cb1a3c414fff99d",
       "version_major": 2,
       "version_minor": 0
      },
      "text/plain": [
       "Running OOMMF (ExeOOMMFRunner):   0%|          | 0/50 files written [00:00]"
      ]
     },
     "metadata": {},
     "output_type": "display_data"
    }
   ],
   "source": [
    "system.dynamics = mm.Precession(gamma0=mm.consts.gamma0) + mm.Damping(alpha=0.3) + mm.ZhangLi(u=300,beta=0.2)\n",
    "system.energy = mm.Exchange(A=1e-11)+mm.DMI(D=3.2e-3, crystalclass='Cnv_z')+mm.UniaxialAnisotropy(K=0.8e6, u=(0,0,1))\n",
    "system.m =data[0][0]\n",
    "md = oc.TimeDriver()\n",
    "md.drive(system,t=1e-9,n=50,verbose=2)"
   ]
  },
  {
   "cell_type": "code",
   "execution_count": 17,
   "metadata": {},
   "outputs": [
    {
     "name": "stderr",
     "output_type": "stream",
     "text": [
      "MovieWriter PillowWriter unavailable; using Pillow instead.\n"
     ]
    },
    {
     "data": {
      "image/svg+xml": "<?xml version=\"1.0\" encoding=\"utf-8\" standalone=\"no\"?>\n<!DOCTYPE svg PUBLIC \"-//W3C//DTD SVG 1.1//EN\"\n  \"http://www.w3.org/Graphics/SVG/1.1/DTD/svg11.dtd\">\n<svg xmlns:xlink=\"http://www.w3.org/1999/xlink\" width=\"628.371641pt\" height=\"123.768047pt\" viewBox=\"0 0 628.371641 123.768047\" xmlns=\"http://www.w3.org/2000/svg\" version=\"1.1\">\n <metadata>\n  <rdf:RDF xmlns:dc=\"http://purl.org/dc/elements/1.1/\" xmlns:cc=\"http://creativecommons.org/ns#\" xmlns:rdf=\"http://www.w3.org/1999/02/22-rdf-syntax-ns#\">\n   <cc:Work>\n    <dc:type rdf:resource=\"http://purl.org/dc/dcmitype/StillImage\"/>\n    <dc:date>2022-09-26T13:26:08.197131</dc:date>\n    <dc:format>image/svg+xml</dc:format>\n    <dc:creator>\n     <cc:Agent>\n      <dc:title>Matplotlib v3.5.2, https://matplotlib.org/</dc:title>\n     </cc:Agent>\n    </dc:creator>\n   </cc:Work>\n  </rdf:RDF>\n </metadata>\n <defs>\n  <style type=\"text/css\">*{stroke-linejoin: round; stroke-linecap: butt}</style>\n </defs>\n <g id=\"figure_1\">\n  <g id=\"patch_1\">\n   <path d=\"M 0 123.768047 \nL 628.371641 123.768047 \nL 628.371641 -0 \nL 0 -0 \nL 0 123.768047 \nz\n\" style=\"fill: none\"/>\n  </g>\n  <g id=\"axes_1\">\n   <g id=\"patch_2\">\n    <path d=\"M 52.327813 81.602578 \nL 610.327813 81.602578 \nL 610.327813 11.852578 \nL 52.327813 11.852578 \nz\n\" style=\"fill: #eaeaf2\"/>\n   </g>\n   <g clip-path=\"url(#pcdd3ce2079)\">\n    <image xlink:href=\"data:image/png;base64,\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\" id=\"image0163cd0a47\" transform=\"scale(1 -1)translate(0 -69.84)\" x=\"52\" y=\"-11.928047\" width=\"558\" height=\"69.84\"/>\n   </g>\n   <g id=\"matplotlib.axis_1\">\n    <g id=\"xtick_1\">\n     <g id=\"line2d_1\"/>\n     <g id=\"text_1\">\n      <!-- −400 -->\n      <g style=\"fill: #262626\" transform=\"translate(37.687578 95.907734)scale(0.13 -0.13)\">\n       <defs>\n        <path id=\"ArialMT-2212\" d=\"M 3381 1997 \nL 356 1997 \nL 356 2522 \nL 3381 2522 \nL 3381 1997 \nz\n\" transform=\"scale(0.015625)\"/>\n        <path id=\"ArialMT-34\" d=\"M 2069 0 \nL 2069 1097 \nL 81 1097 \nL 81 1613 \nL 2172 4581 \nL 2631 4581 \nL 2631 1613 \nL 3250 1613 \nL 3250 1097 \nL 2631 1097 \nL 2631 0 \nL 2069 0 \nz\nM 2069 1613 \nL 2069 3678 \nL 634 1613 \nL 2069 1613 \nz\n\" transform=\"scale(0.015625)\"/>\n        <path id=\"ArialMT-30\" d=\"M 266 2259 \nQ 266 3072 433 3567 \nQ 600 4063 929 4331 \nQ 1259 4600 1759 4600 \nQ 2128 4600 2406 4451 \nQ 2684 4303 2865 4023 \nQ 3047 3744 3150 3342 \nQ 3253 2941 3253 2259 \nQ 3253 1453 3087 958 \nQ 2922 463 2592 192 \nQ 2263 -78 1759 -78 \nQ 1097 -78 719 397 \nQ 266 969 266 2259 \nz\nM 844 2259 \nQ 844 1131 1108 757 \nQ 1372 384 1759 384 \nQ 2147 384 2411 759 \nQ 2675 1134 2675 2259 \nQ 2675 3391 2411 3762 \nQ 2147 4134 1753 4134 \nQ 1366 4134 1134 3806 \nQ 844 3388 844 2259 \nz\n\" transform=\"scale(0.015625)\"/>\n       </defs>\n       <use xlink:href=\"#ArialMT-2212\"/>\n       <use xlink:href=\"#ArialMT-34\" x=\"58.398438\"/>\n       <use xlink:href=\"#ArialMT-30\" x=\"114.013672\"/>\n       <use xlink:href=\"#ArialMT-30\" x=\"169.628906\"/>\n      </g>\n     </g>\n    </g>\n    <g id=\"xtick_2\">\n     <g id=\"line2d_2\"/>\n     <g id=\"text_2\">\n      <!-- −300 -->\n      <g style=\"fill: #262626\" transform=\"translate(107.437578 95.907734)scale(0.13 -0.13)\">\n       <defs>\n        <path id=\"ArialMT-33\" d=\"M 269 1209 \nL 831 1284 \nQ 928 806 1161 595 \nQ 1394 384 1728 384 \nQ 2125 384 2398 659 \nQ 2672 934 2672 1341 \nQ 2672 1728 2419 1979 \nQ 2166 2231 1775 2231 \nQ 1616 2231 1378 2169 \nL 1441 2663 \nQ 1497 2656 1531 2656 \nQ 1891 2656 2178 2843 \nQ 2466 3031 2466 3422 \nQ 2466 3731 2256 3934 \nQ 2047 4138 1716 4138 \nQ 1388 4138 1169 3931 \nQ 950 3725 888 3313 \nL 325 3413 \nQ 428 3978 793 4289 \nQ 1159 4600 1703 4600 \nQ 2078 4600 2393 4439 \nQ 2709 4278 2876 4000 \nQ 3044 3722 3044 3409 \nQ 3044 3113 2884 2869 \nQ 2725 2625 2413 2481 \nQ 2819 2388 3044 2092 \nQ 3269 1797 3269 1353 \nQ 3269 753 2831 336 \nQ 2394 -81 1725 -81 \nQ 1122 -81 723 278 \nQ 325 638 269 1209 \nz\n\" transform=\"scale(0.015625)\"/>\n       </defs>\n       <use xlink:href=\"#ArialMT-2212\"/>\n       <use xlink:href=\"#ArialMT-33\" x=\"58.398438\"/>\n       <use xlink:href=\"#ArialMT-30\" x=\"114.013672\"/>\n       <use xlink:href=\"#ArialMT-30\" x=\"169.628906\"/>\n      </g>\n     </g>\n    </g>\n    <g id=\"xtick_3\">\n     <g id=\"line2d_3\"/>\n     <g id=\"text_3\">\n      <!-- −200 -->\n      <g style=\"fill: #262626\" transform=\"translate(177.187578 95.907734)scale(0.13 -0.13)\">\n       <defs>\n        <path id=\"ArialMT-32\" d=\"M 3222 541 \nL 3222 0 \nL 194 0 \nQ 188 203 259 391 \nQ 375 700 629 1000 \nQ 884 1300 1366 1694 \nQ 2113 2306 2375 2664 \nQ 2638 3022 2638 3341 \nQ 2638 3675 2398 3904 \nQ 2159 4134 1775 4134 \nQ 1369 4134 1125 3890 \nQ 881 3647 878 3216 \nL 300 3275 \nQ 359 3922 746 4261 \nQ 1134 4600 1788 4600 \nQ 2447 4600 2831 4234 \nQ 3216 3869 3216 3328 \nQ 3216 3053 3103 2787 \nQ 2991 2522 2730 2228 \nQ 2469 1934 1863 1422 \nQ 1356 997 1212 845 \nQ 1069 694 975 541 \nL 3222 541 \nz\n\" transform=\"scale(0.015625)\"/>\n       </defs>\n       <use xlink:href=\"#ArialMT-2212\"/>\n       <use xlink:href=\"#ArialMT-32\" x=\"58.398438\"/>\n       <use xlink:href=\"#ArialMT-30\" x=\"114.013672\"/>\n       <use xlink:href=\"#ArialMT-30\" x=\"169.628906\"/>\n      </g>\n     </g>\n    </g>\n    <g id=\"xtick_4\">\n     <g id=\"line2d_4\"/>\n     <g id=\"text_4\">\n      <!-- −100 -->\n      <g style=\"fill: #262626\" transform=\"translate(246.937578 95.907734)scale(0.13 -0.13)\">\n       <defs>\n        <path id=\"ArialMT-31\" d=\"M 2384 0 \nL 1822 0 \nL 1822 3584 \nQ 1619 3391 1289 3197 \nQ 959 3003 697 2906 \nL 697 3450 \nQ 1169 3672 1522 3987 \nQ 1875 4303 2022 4600 \nL 2384 4600 \nL 2384 0 \nz\n\" transform=\"scale(0.015625)\"/>\n       </defs>\n       <use xlink:href=\"#ArialMT-2212\"/>\n       <use xlink:href=\"#ArialMT-31\" x=\"58.398438\"/>\n       <use xlink:href=\"#ArialMT-30\" x=\"114.013672\"/>\n       <use xlink:href=\"#ArialMT-30\" x=\"169.628906\"/>\n      </g>\n     </g>\n    </g>\n    <g id=\"xtick_5\">\n     <g id=\"line2d_5\"/>\n     <g id=\"text_5\">\n      <!-- 0 -->\n      <g style=\"fill: #262626\" transform=\"translate(327.713203 95.907734)scale(0.13 -0.13)\">\n       <use xlink:href=\"#ArialMT-30\"/>\n      </g>\n     </g>\n    </g>\n    <g id=\"xtick_6\">\n     <g id=\"line2d_6\"/>\n     <g id=\"text_6\">\n      <!-- 100 -->\n      <g style=\"fill: #262626\" transform=\"translate(390.233984 95.907734)scale(0.13 -0.13)\">\n       <use xlink:href=\"#ArialMT-31\"/>\n       <use xlink:href=\"#ArialMT-30\" x=\"55.615234\"/>\n       <use xlink:href=\"#ArialMT-30\" x=\"111.230469\"/>\n      </g>\n     </g>\n    </g>\n    <g id=\"xtick_7\">\n     <g id=\"line2d_7\"/>\n     <g id=\"text_7\">\n      <!-- 200 -->\n      <g style=\"fill: #262626\" transform=\"translate(459.983984 95.907734)scale(0.13 -0.13)\">\n       <use xlink:href=\"#ArialMT-32\"/>\n       <use xlink:href=\"#ArialMT-30\" x=\"55.615234\"/>\n       <use xlink:href=\"#ArialMT-30\" x=\"111.230469\"/>\n      </g>\n     </g>\n    </g>\n    <g id=\"xtick_8\">\n     <g id=\"line2d_8\"/>\n     <g id=\"text_8\">\n      <!-- 300 -->\n      <g style=\"fill: #262626\" transform=\"translate(529.733984 95.907734)scale(0.13 -0.13)\">\n       <use xlink:href=\"#ArialMT-33\"/>\n       <use xlink:href=\"#ArialMT-30\" x=\"55.615234\"/>\n       <use xlink:href=\"#ArialMT-30\" x=\"111.230469\"/>\n      </g>\n     </g>\n    </g>\n    <g id=\"xtick_9\">\n     <g id=\"line2d_9\"/>\n     <g id=\"text_9\">\n      <!-- 400 -->\n      <g style=\"fill: #262626\" transform=\"translate(599.483984 95.907734)scale(0.13 -0.13)\">\n       <use xlink:href=\"#ArialMT-34\"/>\n       <use xlink:href=\"#ArialMT-30\" x=\"55.615234\"/>\n       <use xlink:href=\"#ArialMT-30\" x=\"111.230469\"/>\n      </g>\n     </g>\n    </g>\n    <g id=\"text_10\">\n     <!-- x (nm) -->\n     <g style=\"fill: #262626\" transform=\"translate(310.081719 113.411016)scale(0.15 -0.15)\">\n      <defs>\n       <path id=\"ArialMT-78\" d=\"M 47 0 \nL 1259 1725 \nL 138 3319 \nL 841 3319 \nL 1350 2541 \nQ 1494 2319 1581 2169 \nQ 1719 2375 1834 2534 \nL 2394 3319 \nL 3066 3319 \nL 1919 1756 \nL 3153 0 \nL 2463 0 \nL 1781 1031 \nL 1600 1309 \nL 728 0 \nL 47 0 \nz\n\" transform=\"scale(0.015625)\"/>\n       <path id=\"ArialMT-20\" transform=\"scale(0.015625)\"/>\n       <path id=\"ArialMT-28\" d=\"M 1497 -1347 \nQ 1031 -759 709 28 \nQ 388 816 388 1659 \nQ 388 2403 628 3084 \nQ 909 3875 1497 4659 \nL 1900 4659 \nQ 1522 4009 1400 3731 \nQ 1209 3300 1100 2831 \nQ 966 2247 966 1656 \nQ 966 153 1900 -1347 \nL 1497 -1347 \nz\n\" transform=\"scale(0.015625)\"/>\n       <path id=\"ArialMT-6e\" d=\"M 422 0 \nL 422 3319 \nL 928 3319 \nL 928 2847 \nQ 1294 3394 1984 3394 \nQ 2284 3394 2536 3286 \nQ 2788 3178 2913 3003 \nQ 3038 2828 3088 2588 \nQ 3119 2431 3119 2041 \nL 3119 0 \nL 2556 0 \nL 2556 2019 \nQ 2556 2363 2490 2533 \nQ 2425 2703 2258 2804 \nQ 2091 2906 1866 2906 \nQ 1506 2906 1245 2678 \nQ 984 2450 984 1813 \nL 984 0 \nL 422 0 \nz\n\" transform=\"scale(0.015625)\"/>\n       <path id=\"ArialMT-6d\" d=\"M 422 0 \nL 422 3319 \nL 925 3319 \nL 925 2853 \nQ 1081 3097 1340 3245 \nQ 1600 3394 1931 3394 \nQ 2300 3394 2536 3241 \nQ 2772 3088 2869 2813 \nQ 3263 3394 3894 3394 \nQ 4388 3394 4653 3120 \nQ 4919 2847 4919 2278 \nL 4919 0 \nL 4359 0 \nL 4359 2091 \nQ 4359 2428 4304 2576 \nQ 4250 2725 4106 2815 \nQ 3963 2906 3769 2906 \nQ 3419 2906 3187 2673 \nQ 2956 2441 2956 1928 \nL 2956 0 \nL 2394 0 \nL 2394 2156 \nQ 2394 2531 2256 2718 \nQ 2119 2906 1806 2906 \nQ 1569 2906 1367 2781 \nQ 1166 2656 1075 2415 \nQ 984 2175 984 1722 \nL 984 0 \nL 422 0 \nz\n\" transform=\"scale(0.015625)\"/>\n       <path id=\"ArialMT-29\" d=\"M 791 -1347 \nL 388 -1347 \nQ 1322 153 1322 1656 \nQ 1322 2244 1188 2822 \nQ 1081 3291 891 3722 \nQ 769 4003 388 4659 \nL 791 4659 \nQ 1378 3875 1659 3084 \nQ 1900 2403 1900 1659 \nQ 1900 816 1576 28 \nQ 1253 -759 791 -1347 \nz\n\" transform=\"scale(0.015625)\"/>\n      </defs>\n      <use xlink:href=\"#ArialMT-78\"/>\n      <use xlink:href=\"#ArialMT-20\" x=\"50\"/>\n      <use xlink:href=\"#ArialMT-28\" x=\"77.783203\"/>\n      <use xlink:href=\"#ArialMT-6e\" x=\"111.083984\"/>\n      <use xlink:href=\"#ArialMT-6d\" x=\"166.699219\"/>\n      <use xlink:href=\"#ArialMT-29\" x=\"250\"/>\n     </g>\n    </g>\n   </g>\n   <g id=\"matplotlib.axis_2\">\n    <g id=\"ytick_1\">\n     <g id=\"line2d_10\"/>\n     <g id=\"text_11\">\n      <!-- −50 -->\n      <g style=\"fill: #262626\" transform=\"translate(25.276563 86.255156)scale(0.13 -0.13)\">\n       <defs>\n        <path id=\"ArialMT-35\" d=\"M 266 1200 \nL 856 1250 \nQ 922 819 1161 601 \nQ 1400 384 1738 384 \nQ 2144 384 2425 690 \nQ 2706 997 2706 1503 \nQ 2706 1984 2436 2262 \nQ 2166 2541 1728 2541 \nQ 1456 2541 1237 2417 \nQ 1019 2294 894 2097 \nL 366 2166 \nL 809 4519 \nL 3088 4519 \nL 3088 3981 \nL 1259 3981 \nL 1013 2750 \nQ 1425 3038 1878 3038 \nQ 2478 3038 2890 2622 \nQ 3303 2206 3303 1553 \nQ 3303 931 2941 478 \nQ 2500 -78 1738 -78 \nQ 1113 -78 717 272 \nQ 322 622 266 1200 \nz\n\" transform=\"scale(0.015625)\"/>\n       </defs>\n       <use xlink:href=\"#ArialMT-2212\"/>\n       <use xlink:href=\"#ArialMT-35\" x=\"58.398438\"/>\n       <use xlink:href=\"#ArialMT-30\" x=\"114.013672\"/>\n      </g>\n     </g>\n    </g>\n    <g id=\"ytick_2\">\n     <g id=\"line2d_11\"/>\n     <g id=\"text_12\">\n      <!-- 0 -->\n      <g style=\"fill: #262626\" transform=\"translate(40.098594 51.380156)scale(0.13 -0.13)\">\n       <use xlink:href=\"#ArialMT-30\"/>\n      </g>\n     </g>\n    </g>\n    <g id=\"ytick_3\">\n     <g id=\"line2d_12\"/>\n     <g id=\"text_13\">\n      <!-- 50 -->\n      <g style=\"fill: #262626\" transform=\"translate(32.869375 16.505156)scale(0.13 -0.13)\">\n       <use xlink:href=\"#ArialMT-35\"/>\n       <use xlink:href=\"#ArialMT-30\" x=\"55.615234\"/>\n      </g>\n     </g>\n    </g>\n    <g id=\"text_14\">\n     <!-- y (nm) -->\n     <g style=\"fill: #262626\" transform=\"translate(18.119531 67.973672)rotate(-90)scale(0.15 -0.15)\">\n      <defs>\n       <path id=\"ArialMT-79\" d=\"M 397 -1278 \nL 334 -750 \nQ 519 -800 656 -800 \nQ 844 -800 956 -737 \nQ 1069 -675 1141 -563 \nQ 1194 -478 1313 -144 \nQ 1328 -97 1363 -6 \nL 103 3319 \nL 709 3319 \nL 1400 1397 \nQ 1534 1031 1641 628 \nQ 1738 1016 1872 1384 \nL 2581 3319 \nL 3144 3319 \nL 1881 -56 \nQ 1678 -603 1566 -809 \nQ 1416 -1088 1222 -1217 \nQ 1028 -1347 759 -1347 \nQ 597 -1347 397 -1278 \nz\n\" transform=\"scale(0.015625)\"/>\n      </defs>\n      <use xlink:href=\"#ArialMT-79\"/>\n      <use xlink:href=\"#ArialMT-20\" x=\"50\"/>\n      <use xlink:href=\"#ArialMT-28\" x=\"77.783203\"/>\n      <use xlink:href=\"#ArialMT-6e\" x=\"111.083984\"/>\n      <use xlink:href=\"#ArialMT-6d\" x=\"166.699219\"/>\n      <use xlink:href=\"#ArialMT-29\" x=\"250\"/>\n     </g>\n    </g>\n   </g>\n   <g id=\"patch_3\">\n    <path d=\"M 52.327813 81.602578 \nL 52.327813 11.852578 \n\" style=\"fill: none\"/>\n   </g>\n   <g id=\"patch_4\">\n    <path d=\"M 610.327813 81.602578 \nL 610.327813 11.852578 \n\" style=\"fill: none\"/>\n   </g>\n   <g id=\"patch_5\">\n    <path d=\"M 52.327812 81.602578 \nL 610.327812 81.602578 \n\" style=\"fill: none\"/>\n   </g>\n   <g id=\"patch_6\">\n    <path d=\"M 52.327812 11.852578 \nL 610.327812 11.852578 \n\" style=\"fill: none\"/>\n   </g>\n  </g>\n </g>\n <defs>\n  <clipPath id=\"pcdd3ce2079\">\n   <rect x=\"52.327813\" y=\"11.852578\" width=\"558\" height=\"69.75\"/>\n  </clipPath>\n </defs>\n</svg>\n",
      "text/plain": [
       "<Figure size 3000x900 with 1 Axes>"
      ]
     },
     "metadata": {
      "needs_background": "light"
     },
     "output_type": "display_data"
    }
   ],
   "source": [
    "from matplotlib import pyplot as plt\n",
    "from celluloid import Camera\n",
    "import numpy as np\n",
    "from IPython.display import HTML\n",
    "\n",
    "fig=plt.figure(figsize=(10,3),dpi=300)\n",
    "ax=fig.add_subplot(111)\n",
    "camera = Camera(fig)\n",
    "for i in range(50):\n",
    "    data[1][i].z.plane('z').mpl.scalar(ax=ax,colorbar=False)\n",
    "    camera.snap()\n",
    "\n",
    "animation = camera.animate()\n",
    "animation.save('dynamic plot.gif', writer='PillowWriter', fps=15)"
   ]
  },
  {
   "cell_type": "code",
   "execution_count": null,
   "metadata": {},
   "outputs": [],
   "source": []
  }
 ],
 "metadata": {
  "kernelspec": {
   "display_name": "Python 3.9.13 ('ubermag_new')",
   "language": "python",
   "name": "python3"
  },
  "language_info": {
   "codemirror_mode": {
    "name": "ipython",
    "version": 3
   },
   "file_extension": ".py",
   "mimetype": "text/x-python",
   "name": "python",
   "nbconvert_exporter": "python",
   "pygments_lexer": "ipython3",
   "version": "3.9.13"
  },
  "orig_nbformat": 4,
  "vscode": {
   "interpreter": {
    "hash": "789827c988ed6a2ff30929c47767c4bfaddc74f2b0eb3bace0d8b14934c6102b"
   }
  }
 },
 "nbformat": 4,
 "nbformat_minor": 2
}
